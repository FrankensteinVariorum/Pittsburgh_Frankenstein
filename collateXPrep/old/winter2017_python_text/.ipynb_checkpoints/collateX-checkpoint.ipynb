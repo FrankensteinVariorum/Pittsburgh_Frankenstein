{
 "cells": [
  {
   "cell_type": "markdown",
   "metadata": {},
   "source": [
    "This is a notebook to help preview collateX processing of variant texts, working with segments of the 1818, 1823, and 1831 editions of *Frankenstein*."
   ]
  },
  {
   "cell_type": "code",
   "execution_count": null,
   "metadata": {},
   "outputs": [],
   "source": [
    "from collatex import *\n",
    "collation = Collation() \n",
    "with \\\n",
    "    open('1818_openingLetters.txt','r') as f1818, \\\n",
    "    open('1823_openingLetters.txt','r') as f1823, \\\n",
    "    open('1831_openingLetters.txt','r') as f1831: \n",
    "    w1818=f1818.read() \n",
    "    w1823=f1823.read() \n",
    "    w1831=f1831.read() \n",
    "    collation.add_plain_witness('w1818', w1818) \n",
    "    collation.add_plain_witness('w1823', w1823) \n",
    "    collation.add_plain_witness('w1831', w1831) \n",
    "# outputs colored HTML in Jupyter notebook\n",
    "collate(collation, segmentation=True, output='html2', layout='vertical')\n",
    "# creates SVG in Jupyter notebook (try also svg2)\n",
    "# collate(collation, segmentation=True, output='svg')\n",
    "# outputs TEI into a file called collation.xml\n",
    "# tei = collate(collation, segmentation=True, output='tei')\n",
    "# with \\\n",
    "# open('collation.xml', 'w') as output\n",
    "#   output.write(tei)"
   ]
  },
  {
   "cell_type": "code",
   "execution_count": null,
   "metadata": {},
   "outputs": [],
   "source": [
    "from collatex import *\n",
    "collation = Collation() \n",
    "with \\\n",
    "    open('1818_openingLetters.txt','r') as f1818, \\\n",
    "    open('1823_openingLetters.txt','r') as f1823, \\\n",
    "    open('1831_openingLetters.txt','r') as f1831: \n",
    "    w1818=f1818.read() \n",
    "    w1823=f1823.read() \n",
    "    w1831=f1831.read() \n",
    "    collation.add_plain_witness('w1818', w1818) \n",
    "    collation.add_plain_witness('w1823', w1823) \n",
    "    collation.add_plain_witness('w1831', w1831) \n",
    "# outputs colored HTML in Jupyter notebook\n",
    "# collate(collation, segmentation=True, output='html2', layout='vertical')\n",
    "# creates SVG in Jupyter notebook (try also svg2)\n",
    "collate(collation, segmentation=True, output='svg')\n",
    "# outputs TEI into a file called collation.xml\n",
    "# tei = collate(collation, segmentation=True, output='tei')\n",
    "# with \\\n",
    "# open('collation.xml', 'w') as output\n",
    "#   output.write(tei)"
   ]
  },
  {
   "cell_type": "code",
   "execution_count": null,
   "metadata": {},
   "outputs": [],
   "source": [
    "%load_ext autoreload\n",
    "%autoreload 2\n",
    "from collatex import *\n",
    "collation = Collation() \n",
    "collation.add_plain_witness('w1818', 'The big pink c o c k a t o o.') \n",
    "collation.add_plain_witness('w1823', 'The big yellow c o c k a t o o.') \n",
    "collation.add_plain_witness('w1831', 'The big yellow c o c k a t i e l.') \n",
    "collate(collation, segmentation=True, output='svg_simple')\n",
    "# collate(collation, segmentation=True, output='svg')"
   ]
  },
  {
   "cell_type": "code",
   "execution_count": null,
   "metadata": {},
   "outputs": [],
   "source": [
    "from collatex import *\n",
    "import re\n",
    "\n",
    "def tokenize(input):\n",
    "    words = re.split(r'\\s+', input) # split on whitespace\n",
    "    tokens_by_word = [re.findall(r'.+\\w|\\W+$', word) for word in words] # break off final punctuation\n",
    "    tokens = []\n",
    "    for item in tokens_by_word:\n",
    "        tokens.extend(item)\n",
    "    token_list = [{\"t\": token} for token in tokens] # create dictionaries for each token\n",
    "    return token_list\n",
    "\n",
    "input_a = \"Peter's cat.\"\n",
    "input_b = \"Peter's dog.\"\n",
    "\n",
    "tokens_a = tokenize(input_a)\n",
    "print('tokens_a =', tokens_a)\n",
    "tokens_b = tokenize(input_b)\n",
    "print('tokens_b =', tokens_b)\n",
    "witness_a = { \"id\": \"A\", \"tokens\": tokens_a }\n",
    "print('witness_a = ', witness_a)\n",
    "witness_b = { \"id\": \"B\", \"tokens\": tokens_b }\n",
    "input = { \"witnesses\": [ witness_a, witness_b ] }\n",
    "table = collate(input, segmentation=False)\n",
    "print(table)"
   ]
  },
  {
   "cell_type": "code",
   "execution_count": null,
   "metadata": {},
   "outputs": [],
   "source": [
    "%load_ext autoreload\n",
    "%autoreload 2\n",
    "from collatex import *\n",
    "collation = Collation()\n",
    "collation.add_plain_witness('A','The big gray koala')\n",
    "collation.add_plain_witness('B','The grey koala')\n",
    "table = collate(collation, segmentation=False, near_match=True)\n",
    "print(table)\n",
    "collate(collation,segmentation=False,near_match=True,output=\"svg\")"
   ]
  },
  {
   "cell_type": "code",
   "execution_count": null,
   "metadata": {
    "collapsed": true
   },
   "outputs": [],
   "source": []
  }
 ],
 "metadata": {
  "anaconda-cloud": {},
  "kernelspec": {
   "display_name": "Python 3",
   "language": "python",
   "name": "python3"
  },
  "language_info": {
   "codemirror_mode": {
    "name": "ipython",
    "version": 3
   },
   "file_extension": ".py",
   "mimetype": "text/x-python",
   "name": "python",
   "nbconvert_exporter": "python",
   "pygments_lexer": "ipython3",
   "version": "3.6.5"
  }
 },
 "nbformat": 4,
 "nbformat_minor": 1
}
